{
 "cells": [
  {
   "cell_type": "markdown",
   "metadata": {},
   "source": [
    "# Exercício 1 parte 2"
   ]
  },
  {
   "cell_type": "code",
   "execution_count": null,
   "metadata": {},
   "outputs": [],
   "source": [
    "import csv\n",
    "\n",
    "def append_value(dict_obj, key, value):\n",
    "    if key in dict_obj:\n",
    "        if not isinstance(dict_obj[key], list):\n",
    "            dict_obj[key] = [dict_obj[key]]\n",
    "        if value not in dict_obj[key]:\n",
    "            dict_obj[key].append(value)\n",
    "    else:\n",
    "        dict_obj[key] = value\n",
    "\n",
    "dict_obj = {}\n",
    "num_alunos = int(input(\"Digite quantos alunos: \"))\n",
    "\n",
    "for i in range(num_alunos):\n",
    "    aluno = input(\"nome\").upper()\n",
    "    num_notas = int(input(\"numero de notas\"))\n",
    "    for x in range(num_notas):\n",
    "        nota = input(\"Digite a nota: \")\n",
    "        x = append_value(dict_obj, aluno, nota)\n",
    "\n",
    "# writing to csv file \n",
    "with open('records.txt', 'w') as f: \n",
    "    # creating a csv dict writer object \n",
    "    csv_writer = csv.writer(f, delimiter = '\\t')\n",
    "    for aluno, notas in dict_obj.items():\n",
    "        csv_writer.writerow([aluno, notas])\n",
    "\n",
    "f.close()"
   ]
  },
  {
   "cell_type": "markdown",
   "metadata": {},
   "source": [
    "## Ex. 2"
   ]
  },
  {
   "cell_type": "code",
   "execution_count": null,
   "metadata": {},
   "outputs": [],
   "source": [
    "import csv\n",
    "\n",
    "def append_value(dict_obj, key, *value):\n",
    "    if key in dict_obj:\n",
    "        if not isinstance(dict_obj[key], list):\n",
    "            dict_obj[key] = [dict_obj[key]]\n",
    "        if value not in dict_obj[key]:\n",
    "            dict_obj[key].append(value)\n",
    "    else:\n",
    "        dict_obj[key] = [value]\n",
    "\n",
    "dict_obj = {}\n",
    "num_alunos = int(input(\"Digite quantos alunos: \"))\n",
    "\n",
    "for i in range(num_alunos):\n",
    "    lista_notas = []\n",
    "    aluno = input(\"nome\").upper()\n",
    "    num_notas = int(input(\"numero de notas\"))\n",
    "    valor_mínimo = float(input(\"Digite o valor mínimo: \"))\n",
    "    rep_o_n = ''\n",
    "    for x in range(num_notas):\n",
    "        nota = float(input(\"Digite a nota: \"))\n",
    "        lista_notas.append(nota)\n",
    "        total_notas = sum(lista_notas)\n",
    "        media = (total_notas / num_notas)\n",
    "    if media >= valor_mínimo:\n",
    "        rep_o_n = 'APR'\n",
    "    else:\n",
    "        rep_o_n = 'REP'\n",
    "    x = append_value(dict_obj, aluno, lista_notas, media, rep_o_n)\n",
    "\n",
    "# writing to csv file \n",
    "with open('records.txt', 'w') as f: \n",
    "    # creating a csv dict writer object \n",
    "    csv_writer = csv.writer(f, delimiter = '\\t')\n",
    "    for aluno, values in dict_obj.items():\n",
    "        csv_writer.writerow([aluno, lista_notas, media, rep_o_n])\n",
    "\n",
    "f.close()"
   ]
  },
  {
   "cell_type": "code",
   "execution_count": null,
   "metadata": {},
   "outputs": [],
   "source": [
    "import csv\n",
    "from operator import itemgetter\n",
    "\n",
    "def achar_maior(list_v, listx):\n",
    "    largest_number = list_v[0]\n",
    "    for number in list_v:\n",
    "        if number > largest_number:\n",
    "            largest_number = number\n",
    "    return largest_number\n",
    "\n",
    "with open(\"daily_IBM.csv\", \"r\") as f:\n",
    "    colon_reader = csv.reader(f, delimiter= ',')\n",
    "    listx = []\n",
    "    list_v = []\n",
    "    for line in colon_reader:\n",
    "        parts = line[0]\n",
    "        parts2 = line[2]\n",
    "        parts3 = line[3]\n",
    "        allparts = parts, parts2, parts3\n",
    "        listx.append(allparts)\n",
    "    listx.pop(0)\n",
    "    for date, maxval, minval in listx:\n",
    "        maxval = round(float(maxval))\n",
    "        minval = round(float(minval))\n",
    "        b = int(maxval - minval)\n",
    "        list_v.append(b)\n",
    "        value = achar_maior(list_v, listx)\n",
    "        "
   ]
  }
 ],
 "metadata": {
  "language_info": {
   "name": "python"
  },
  "orig_nbformat": 4
 },
 "nbformat": 4,
 "nbformat_minor": 2
}
