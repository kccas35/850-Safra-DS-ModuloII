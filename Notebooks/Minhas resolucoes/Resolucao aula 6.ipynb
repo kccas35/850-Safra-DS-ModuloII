{
 "cells": [
  {
   "cell_type": "markdown",
   "metadata": {},
   "source": [
    "# Exercícios\n",
    "\n",
    "Faça uma função que recebe um número ```exp```. Ela deverá retornar uma função que recebe um número ```base``` e retorna base elevado a exp.\n",
    "\n",
    "Experimente as duas abordagens: utilizando funções internas formando uma clausura e utilizando lambda."
   ]
  },
  {
   "cell_type": "code",
   "execution_count": null,
   "metadata": {},
   "outputs": [],
   "source": [
    "def rec_exp(exp):\n",
    "    def rec_base(base):\n",
    "        return base ** exp\n",
    "    return rec_base\n",
    "\n",
    "variav = rec_exp(2)\n",
    "result = variav(5)\n",
    "\n",
    "def fun_lambda(exp):\n",
    "    return lambda base: base ** exp\n",
    "\n",
    "variav1 = fun_lambda(2)\n",
    "result1 = variav1(5)\n",
    "print(result1)"
   ]
  },
  {
   "cell_type": "markdown",
   "metadata": {},
   "source": [
    "Faça uma função que recebe uma string ```prefixo```. Ela retornará uma função que recebe uma string e a retorna prefixada. "
   ]
  },
  {
   "cell_type": "code",
   "execution_count": null,
   "metadata": {},
   "outputs": [
    {
     "name": "stdout",
     "output_type": "stream",
     "text": [
      "desfazer\n",
      "desfazer\n"
     ]
    }
   ],
   "source": [
    "def rec_prefixo(prefixo: str):\n",
    "    def recebe_palavra(palavra: str):\n",
    "        return prefixo + palavra\n",
    "    return recebe_palavra\n",
    "\n",
    "variavx = rec_prefixo('des')\n",
    "resultx = variavx('fazer')\n",
    "print(resultx)\n",
    "\n",
    "def lambdax(prefixo):\n",
    "    return lambda palavra: prefixo + palavra\n",
    "\n",
    "variavx2 = lambdax('des')\n",
    "resultx2 = variavx2('fazer')\n",
    "print(resultx2)\n"
   ]
  },
  {
   "cell_type": "markdown",
   "metadata": {},
   "source": [
    "Faça uma função que recebe um número inteiro ```x```. Ela deverá retornar uma função que recebe um número ```n``` e retorna o n-ésimo número da tabuada de x."
   ]
  },
  {
   "cell_type": "code",
   "execution_count": null,
   "metadata": {},
   "outputs": [
    {
     "name": "stdout",
     "output_type": "stream",
     "text": [
      "6\n"
     ]
    }
   ],
   "source": [
    "def rec_x(x):\n",
    "    def rec_n(n):\n",
    "        return x * n\n",
    "    return rec_n\n",
    "\n",
    "funcao_que_multiplica_por_2 = rec_x(2)\n",
    "resultx3 = funcao_que_multiplica_por_2(3)\n",
    "print(resultx3)"
   ]
  },
  {
   "cell_type": "markdown",
   "metadata": {},
   "source": [
    "Faça o bom e velho fatorial recursivo."
   ]
  },
  {
   "cell_type": "code",
   "execution_count": null,
   "metadata": {},
   "outputs": [
    {
     "name": "stdout",
     "output_type": "stream",
     "text": [
      "24\n"
     ]
    }
   ],
   "source": [
    "def fatorial_rec(n):\n",
    "    if (n == 1) or (n == 0):\n",
    "        return 1\n",
    "    else:\n",
    "        return fatorial_rec(n - 1) * n\n",
    "    \n",
    "print(fatorial_rec(4))"
   ]
  },
  {
   "cell_type": "markdown",
   "metadata": {},
   "source": [
    "Faça o fatorial com recursão de cauda. O cálculo deverá ocorrer nos parâmetros das chamadas recursivas."
   ]
  },
  {
   "cell_type": "code",
   "execution_count": null,
   "metadata": {},
   "outputs": [
    {
     "name": "stdout",
     "output_type": "stream",
     "text": [
      "24\n"
     ]
    }
   ],
   "source": [
    "def fat_cauda(n, n1 = 1):\n",
    "    if n == 0 or n == 1:\n",
    "        return n1\n",
    "    else:\n",
    "        return fat_cauda(n - 1, n1*n)\n",
    "    \n",
    "print(fat_cauda(4))\n",
    "\n",
    "''' n = 2\n",
    "(n - 1) = 1\n",
    "n1 * n = 2 * 1 \n",
    "n1 * n = 2 '''\n",
    "\n"
   ]
  },
  {
   "cell_type": "markdown",
   "metadata": {},
   "source": [
    "Dada uma string contendo um nome completo, retorne uma lista contendo as iniciais do nome."
   ]
  },
  {
   "cell_type": "code",
   "execution_count": 1,
   "metadata": {},
   "outputs": [
    {
     "name": "stdout",
     "output_type": "stream",
     "text": [
      "['J', 'S']\n"
     ]
    }
   ],
   "source": [
    "nome = 'José Silva'\n",
    "iniciais = [inicial[0] for inicial in nome.split(' ')]\n",
    "print(iniciais)"
   ]
  }
 ],
 "metadata": {
  "kernelspec": {
   "display_name": "Python 3.10.1 64-bit",
   "language": "python",
   "name": "python3"
  },
  "language_info": {
   "codemirror_mode": {
    "name": "ipython",
    "version": 3
   },
   "file_extension": ".py",
   "mimetype": "text/x-python",
   "name": "python",
   "nbconvert_exporter": "python",
   "pygments_lexer": "ipython3",
   "version": "3.10.1"
  },
  "orig_nbformat": 4,
  "vscode": {
   "interpreter": {
    "hash": "aee8b7b246df8f9039afb4144a1f6fd8d2ca17a180786b69acc140d282b71a49"
   }
  }
 },
 "nbformat": 4,
 "nbformat_minor": 2
}
