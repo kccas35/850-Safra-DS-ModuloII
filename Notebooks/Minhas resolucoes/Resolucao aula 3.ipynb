{
 "cells": [
  {
   "cell_type": "markdown",
   "metadata": {},
   "source": [
    "# Exercício 2"
   ]
  },
  {
   "cell_type": "code",
   "execution_count": null,
   "metadata": {},
   "outputs": [],
   "source": [
    "import csv\n",
    "\n",
    "def append_value(dict_obj, key, *value):\n",
    "    if key in dict_obj:\n",
    "        if not isinstance(dict_obj[key], list):\n",
    "            dict_obj[key] = [dict_obj[key]]\n",
    "        if value not in dict_obj[key]:\n",
    "            dict_obj[key].append(value)\n",
    "    else:\n",
    "        dict_obj[key] = [value]\n",
    "\n",
    "dict_obj = {}\n",
    "num_alunos = int(input(\"Digite quantos alunos: \"))\n",
    "\n",
    "for i in range(num_alunos):\n",
    "    lista_notas = []\n",
    "    aluno = input(\"nome\").upper()\n",
    "    num_notas = int(input(\"numero de notas\"))\n",
    "    valor_mínimo = float(input(\"Digite o valor mínimo: \"))\n",
    "    rep_o_n = ''\n",
    "    for x in range(num_notas):\n",
    "        try:\n",
    "            nota = float(input(\"Digite a nota: \"))\n",
    "            if not 0 <= nota <= 10:\n",
    "                nota = 0\n",
    "                raise Exception:\n",
    "            (f\"Erro! Digite um número entre 0 e 10.\")\n",
    "        except ValueError:\n",
    "            nota = 0\n",
    "            print(f'Erro! Não é possível converter str para float! ')\n",
    "        lista_notas.append(nota)\n",
    "        total_notas = sum(lista_notas)\n",
    "        media = (total_notas / num_notas)\n",
    "    if media >= valor_mínimo:\n",
    "        rep_o_n = 'APR'\n",
    "    else:\n",
    "        rep_o_n = 'REP'\n",
    "    x = append_value(dict_obj, aluno, lista_notas, media, rep_o_n)\n",
    "\n",
    "# writing to csv file \n",
    "with open('records.txt', 'w') as f: \n",
    "    # creating a csv dict writer object \n",
    "    csv_writer = csv.writer(f, delimiter = '\\t')\n",
    "    for aluno, values in dict_obj.items():\n",
    "        csv_writer.writerow([aluno, lista_notas, media, rep_o_n])\n",
    "\n",
    "f.close()"
   ]
  }
 ],
 "metadata": {
  "language_info": {
   "name": "python"
  },
  "orig_nbformat": 4
 },
 "nbformat": 4,
 "nbformat_minor": 2
}
