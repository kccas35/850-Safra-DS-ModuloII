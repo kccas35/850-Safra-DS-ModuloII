{
 "cells": [
  {
   "cell_type": "markdown",
   "metadata": {},
   "source": [
    "# Exercício 2"
   ]
  },
  {
   "cell_type": "code",
   "execution_count": null,
   "metadata": {},
   "outputs": [],
   "source": [
    "import csv\n",
    "\n",
    "def append_value(dict_obj, key, *value):\n",
    "    if key in dict_obj:\n",
    "        if not isinstance(dict_obj[key], list):\n",
    "            dict_obj[key] = [dict_obj[key]]\n",
    "        if value not in dict_obj[key]:\n",
    "            dict_obj[key].append(value)\n",
    "    else:\n",
    "        dict_obj[key] = [value]\n",
    "\n",
    "dict_obj = {}\n",
    "num_alunos = int(input(\"Digite quantos alunos: \"))\n",
    "\n",
    "for i in range(num_alunos):\n",
    "    lista_notas = []\n",
    "    aluno = input(\"nome\").upper()\n",
    "    num_notas = int(input(\"numero de notas\"))\n",
    "    valor_mínimo = float(input(\"Digite o valor mínimo: \"))\n",
    "    rep_o_n = ''\n",
    "    for x in range(num_notas):\n",
    "        try:\n",
    "            nota = float(input(\"Digite a nota: \"))\n",
    "            if not 0 <= nota <= 10:\n",
    "                nota = 0\n",
    "                raise Exception:\n",
    "            (f\"Erro! Digite um número entre 0 e 10.\")\n",
    "        except ValueError:\n",
    "            nota = 0\n",
    "            print(f'Erro! Não é possível converter str para float! ')\n",
    "        lista_notas.append(nota)\n",
    "        total_notas = sum(lista_notas)\n",
    "        media = (total_notas / num_notas)\n",
    "    if media >= valor_mínimo:\n",
    "        rep_o_n = 'APR'\n",
    "    else:\n",
    "        rep_o_n = 'REP'\n",
    "    x = append_value(dict_obj, aluno, lista_notas, media, rep_o_n)\n",
    "\n",
    "# writing to csv file \n",
    "with open('records.txt', 'w') as f: \n",
    "    # creating a csv dict writer object \n",
    "    csv_writer = csv.writer(f, delimiter = '\\t')\n",
    "    for aluno, values in dict_obj.items():\n",
    "        csv_writer.writerow([aluno, lista_notas, media, rep_o_n])\n",
    "\n",
    "f.close()"
   ]
  }
 ],
 "metadata": {
  "kernelspec": {
   "display_name": "Python 3.10.1 64-bit",
   "language": "python",
   "name": "python3"
  },
  "language_info": {
   "name": "python",
   "version": "3.10.1"
  },
  "orig_nbformat": 4,
  "vscode": {
   "interpreter": {
    "hash": "aee8b7b246df8f9039afb4144a1f6fd8d2ca17a180786b69acc140d282b71a49"
   }
  }
 },
 "nbformat": 4,
 "nbformat_minor": 2
}
